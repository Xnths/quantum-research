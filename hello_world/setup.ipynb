{
 "cells": [
  {
   "cell_type": "code",
   "execution_count": 1,
   "id": "35f89dff",
   "metadata": {},
   "outputs": [
    {
     "name": "stdout",
     "output_type": "stream",
     "text": [
      "[<IBMBackend('simulator_stabilizer')>, <IBMBackend('ibmq_manila')>, <IBMBackend('ibm_nairobi')>, <IBMBackend('ibm_lagos')>, <IBMBackend('ibmq_qasm_simulator')>, <IBMBackend('ibmq_belem')>, <IBMBackend('simulator_mps')>, <IBMBackend('simulator_statevector')>, <IBMBackend('ibm_perth')>, <IBMBackend('ibmq_jakarta')>, <IBMBackend('ibmq_quito')>, <IBMBackend('ibmq_lima')>, <IBMBackend('simulator_extended_stabilizer')>]\n"
     ]
    },
    {
     "ename": "QiskitBackendNotFoundError",
     "evalue": "'No backend matches the criteria'",
     "output_type": "error",
     "traceback": [
      "\u001b[0;31m---------------------------------------------------------------------------\u001b[0m",
      "\u001b[0;31mQiskitBackendNotFoundError\u001b[0m                Traceback (most recent call last)",
      "Cell \u001b[0;32mIn[1], line 12\u001b[0m\n\u001b[1;32m      8\u001b[0m provider \u001b[39m=\u001b[39m IBMProvider(os\u001b[39m.\u001b[39mgetenv(\u001b[39m\"\u001b[39m\u001b[39mAPI_TOKEN\u001b[39m\u001b[39m\"\u001b[39m))\n\u001b[1;32m     10\u001b[0m \u001b[39mprint\u001b[39m(provider\u001b[39m.\u001b[39mbackends())\n\u001b[0;32m---> 12\u001b[0m simulator_backend \u001b[39m=\u001b[39m provider\u001b[39m.\u001b[39;49mget_backend(\u001b[39m'\u001b[39;49m\u001b[39mibm_qasm_simulator\u001b[39;49m\u001b[39m'\u001b[39;49m)\n",
      "File \u001b[0;32m~/anaconda3/lib/python3.10/site-packages/qiskit_ibm_provider/ibm_provider.py:656\u001b[0m, in \u001b[0;36mIBMProvider.get_backend\u001b[0;34m(self, name, instance, **kwargs)\u001b[0m\n\u001b[1;32m    639\u001b[0m \u001b[39m\u001b[39m\u001b[39m\"\"\"Return a single backend matching the specified filtering.\u001b[39;00m\n\u001b[1;32m    640\u001b[0m \n\u001b[1;32m    641\u001b[0m \u001b[39mArgs:\u001b[39;00m\n\u001b[0;32m   (...)\u001b[0m\n\u001b[1;32m    653\u001b[0m \u001b[39m        `project` are specified.\u001b[39;00m\n\u001b[1;32m    654\u001b[0m \u001b[39m\"\"\"\u001b[39;00m\n\u001b[1;32m    655\u001b[0m \u001b[39m# pylint: disable=arguments-differ\u001b[39;00m\n\u001b[0;32m--> 656\u001b[0m backends \u001b[39m=\u001b[39m \u001b[39mself\u001b[39;49m\u001b[39m.\u001b[39;49mbackends(name, instance\u001b[39m=\u001b[39;49minstance, \u001b[39m*\u001b[39;49m\u001b[39m*\u001b[39;49mkwargs)\n\u001b[1;32m    657\u001b[0m \u001b[39mif\u001b[39;00m \u001b[39mlen\u001b[39m(backends) \u001b[39m>\u001b[39m \u001b[39m1\u001b[39m:\n\u001b[1;32m    658\u001b[0m     \u001b[39mraise\u001b[39;00m QiskitBackendNotFoundError(\n\u001b[1;32m    659\u001b[0m         \u001b[39m\"\u001b[39m\u001b[39mMore than one backend matches the criteria\u001b[39m\u001b[39m\"\u001b[39m\n\u001b[1;32m    660\u001b[0m     )\n",
      "File \u001b[0;32m~/anaconda3/lib/python3.10/site-packages/qiskit_ibm_provider/ibm_provider.py:557\u001b[0m, in \u001b[0;36mIBMProvider.backends\u001b[0;34m(self, name, filters, min_num_qubits, instance, **kwargs)\u001b[0m\n\u001b[1;32m    527\u001b[0m \u001b[39m\u001b[39m\u001b[39m\"\"\"Return all backends accessible via this account, subject to optional filtering.\u001b[39;00m\n\u001b[1;32m    528\u001b[0m \n\u001b[1;32m    529\u001b[0m \u001b[39mArgs:\u001b[39;00m\n\u001b[0;32m   (...)\u001b[0m\n\u001b[1;32m    554\u001b[0m \u001b[39m    The list of available backends that match the filter.\u001b[39;00m\n\u001b[1;32m    555\u001b[0m \u001b[39m\"\"\"\u001b[39;00m\n\u001b[1;32m    556\u001b[0m \u001b[39m# pylint: disable=arguments-differ\u001b[39;00m\n\u001b[0;32m--> 557\u001b[0m \u001b[39mreturn\u001b[39;00m \u001b[39mself\u001b[39;49m\u001b[39m.\u001b[39;49m_backend\u001b[39m.\u001b[39;49mbackends(\n\u001b[1;32m    558\u001b[0m     name\u001b[39m=\u001b[39;49mname,\n\u001b[1;32m    559\u001b[0m     filters\u001b[39m=\u001b[39;49mfilters,\n\u001b[1;32m    560\u001b[0m     min_num_qubits\u001b[39m=\u001b[39;49mmin_num_qubits,\n\u001b[1;32m    561\u001b[0m     instance\u001b[39m=\u001b[39;49minstance \u001b[39mor\u001b[39;49;00m \u001b[39mself\u001b[39;49m\u001b[39m.\u001b[39;49m_account\u001b[39m.\u001b[39;49minstance,\n\u001b[1;32m    562\u001b[0m     \u001b[39m*\u001b[39;49m\u001b[39m*\u001b[39;49mkwargs,\n\u001b[1;32m    563\u001b[0m )\n",
      "File \u001b[0;32m~/anaconda3/lib/python3.10/site-packages/qiskit_ibm_provider/ibm_backend_service.py:166\u001b[0m, in \u001b[0;36mIBMBackendService.backends\u001b[0;34m(self, name, filters, min_num_qubits, instance, dynamic_circuits, **kwargs)\u001b[0m\n\u001b[1;32m    164\u001b[0m \u001b[39mif\u001b[39;00m name:\n\u001b[1;32m    165\u001b[0m     \u001b[39mif\u001b[39;00m name \u001b[39mnot\u001b[39;00m \u001b[39min\u001b[39;00m \u001b[39mself\u001b[39m\u001b[39m.\u001b[39m_backends:\n\u001b[0;32m--> 166\u001b[0m         \u001b[39mraise\u001b[39;00m QiskitBackendNotFoundError(\u001b[39m\"\u001b[39m\u001b[39mNo backend matches the criteria\u001b[39m\u001b[39m\"\u001b[39m)\n\u001b[1;32m    167\u001b[0m     \u001b[39mif\u001b[39;00m \u001b[39mnot\u001b[39;00m \u001b[39mself\u001b[39m\u001b[39m.\u001b[39m_backends[name] \u001b[39mor\u001b[39;00m instance \u001b[39m!=\u001b[39m \u001b[39mself\u001b[39m\u001b[39m.\u001b[39m_backends[name]\u001b[39m.\u001b[39m_instance:\n\u001b[1;32m    168\u001b[0m         \u001b[39mself\u001b[39m\u001b[39m.\u001b[39m_set_backend_config(name)\n",
      "\u001b[0;31mQiskitBackendNotFoundError\u001b[0m: 'No backend matches the criteria'"
     ]
    }
   ],
   "source": [
    "import qiskit\n",
    "import os\n",
    "import dotenv\n",
    "dotenv.load_dotenv()\n",
    "\n",
    "from qiskit_ibm_provider import IBMProvider\n",
    "\n",
    "provider = IBMProvider(os.getenv(\"API_TOKEN\"))\n",
    "\n",
    "print(provider.backends())\n",
    "\n",
    "simulator_backend = provider.get_backend('ibm_qasm_simulator')"
   ]
  },
  {
   "cell_type": "code",
   "execution_count": null,
   "id": "90c023f6",
   "metadata": {},
   "outputs": [],
   "source": []
  },
  {
   "cell_type": "code",
   "execution_count": null,
   "id": "801c87b0",
   "metadata": {},
   "outputs": [],
   "source": []
  }
 ],
 "metadata": {
  "kernelspec": {
   "display_name": "Python 3 (ipykernel)",
   "language": "python",
   "name": "python3"
  },
  "language_info": {
   "codemirror_mode": {
    "name": "ipython",
    "version": 3
   },
   "file_extension": ".py",
   "mimetype": "text/x-python",
   "name": "python",
   "nbconvert_exporter": "python",
   "pygments_lexer": "ipython3",
   "version": "3.10.9"
  }
 },
 "nbformat": 4,
 "nbformat_minor": 5
}
